{
 "cells": [
  {
   "cell_type": "markdown",
   "id": "8229db3b-1657-4818-bc14-72ea4354ce46",
   "metadata": {},
   "source": [
    "1. Write a Python program to convert kilometers to miles?"
   ]
  },
  {
   "cell_type": "code",
   "execution_count": 2,
   "id": "8e0adfbb-713a-40da-bcb6-a40d9adca47c",
   "metadata": {},
   "outputs": [
    {
     "name": "stdin",
     "output_type": "stream",
     "text": [
      "Enter value in Kilometer:  36\n"
     ]
    },
    {
     "name": "stdout",
     "output_type": "stream",
     "text": [
      "Entered value 36 Kilometers in miles is:  22.369362839999997\n"
     ]
    }
   ],
   "source": [
    "a=int(input(\"Enter value in Kilometer: \"))\n",
    "\n",
    "print(f\"Entered value {a} Kilometers in miles is: \", (0.62137119*a))"
   ]
  },
  {
   "cell_type": "markdown",
   "id": "9a634fb9-e495-4159-a906-e9c86aca7660",
   "metadata": {},
   "source": [
    "2. Write a Python program to convert Celsius to Fahrenheit?"
   ]
  },
  {
   "cell_type": "code",
   "execution_count": 3,
   "id": "be77524b-54e0-4df4-b320-bd9032e208b8",
   "metadata": {},
   "outputs": [
    {
     "name": "stdin",
     "output_type": "stream",
     "text": [
      "Enter temperature in Celsius:  25\n"
     ]
    },
    {
     "name": "stdout",
     "output_type": "stream",
     "text": [
      "Entered temperature 25 value in Fahrenheit is:  77.0\n"
     ]
    }
   ],
   "source": [
    "a=int(input(\"Enter temperature in Celsius: \"))\n",
    "\n",
    "print(f\"Entered temperature {a} value in Fahrenheit is: \", ((a*1.8)+32))"
   ]
  },
  {
   "cell_type": "markdown",
   "id": "b2580990-75dd-4923-9f73-dbdbb6488553",
   "metadata": {},
   "source": [
    "3. Write a Python program to display calendar?"
   ]
  },
  {
   "cell_type": "code",
   "execution_count": 6,
   "id": "a2519ed4-fa65-456a-9a5b-d4eb44d57de7",
   "metadata": {},
   "outputs": [
    {
     "name": "stdin",
     "output_type": "stream",
     "text": [
      "Enter a year:  2022\n",
      "Enter a month:  12\n"
     ]
    },
    {
     "name": "stdout",
     "output_type": "stream",
     "text": [
      "   December 2022\n",
      "Mo Tu We Th Fr Sa Su\n",
      "          1  2  3  4\n",
      " 5  6  7  8  9 10 11\n",
      "12 13 14 15 16 17 18\n",
      "19 20 21 22 23 24 25\n",
      "26 27 28 29 30 31\n",
      "\n"
     ]
    }
   ],
   "source": [
    "import calendar\n",
    "\n",
    "yy=int(input(\"Enter a year: \"))\n",
    "mm=int(input(\"Enter a month: \"))\n",
    "\n",
    "print(calendar.month(yy,mm))"
   ]
  },
  {
   "cell_type": "markdown",
   "id": "e28a43f1-8fd6-4091-9bee-7ca673f2a721",
   "metadata": {},
   "source": [
    "4. Write a Python program to solve quadratic equation?"
   ]
  },
  {
   "cell_type": "code",
   "execution_count": 23,
   "id": "b66211f0-2e90-40d3-9699-f68bac87bda0",
   "metadata": {},
   "outputs": [
    {
     "name": "stdin",
     "output_type": "stream",
     "text": [
      "Enter value of coefficent of X^2:  7\n",
      "Enter value of coefficent of X:  5\n",
      "Enter value of 3rd coefficent:  2\n"
     ]
    },
    {
     "name": "stdout",
     "output_type": "stream",
     "text": [
      "Values of quadratic euation is (-0.35714285714285715+0.3976974544878587j) and (-0.35714285714285715-0.3976974544878587j)\n"
     ]
    }
   ],
   "source": [
    "import cmath\n",
    "a=float(input(\"Enter value of coefficent of X^2: \"))\n",
    "b=float(input(\"Enter value of coefficent of X: \"))\n",
    "c=float(input(\"Enter value of 3rd coefficent: \"))\n",
    "\n",
    "x=((b**2)-(4*a*c))\n",
    "#y=math.sqrt(x)\n",
    "\n",
    "z1=((-b+cmath.sqrt(x))/(2*a))\n",
    "z2=((-b-cmath.sqrt(x))/(2*a))\n",
    "\n",
    "print(f\"Values of quadratic euation is {z1} and {z2}\")"
   ]
  },
  {
   "cell_type": "markdown",
   "id": "3060e64e-b8fa-47c3-a1a6-2e02947dff7c",
   "metadata": {},
   "source": [
    "5. Write a Python program to swap two variables without temp variable?"
   ]
  },
  {
   "cell_type": "code",
   "execution_count": 27,
   "id": "86c3ec21-dd9a-42dc-8375-f18bfacc0455",
   "metadata": {},
   "outputs": [
    {
     "name": "stdin",
     "output_type": "stream",
     "text": [
      "Enter first Variable:  25\n",
      "Enter Second Variable:  36\n"
     ]
    },
    {
     "name": "stdout",
     "output_type": "stream",
     "text": [
      "After swapping first variable is 36 and Second variable is 25\n"
     ]
    }
   ],
   "source": [
    "a=input(\"Enter first Variable: \")\n",
    "b=input(\"Enter Second Variable: \")\n",
    "\n",
    "print(\"After swapping first variable is\", b, \"and Second variable is\", a)"
   ]
  }
 ],
 "metadata": {
  "kernelspec": {
   "display_name": "Python 3 (ipykernel)",
   "language": "python",
   "name": "python3"
  },
  "language_info": {
   "codemirror_mode": {
    "name": "ipython",
    "version": 3
   },
   "file_extension": ".py",
   "mimetype": "text/x-python",
   "name": "python",
   "nbconvert_exporter": "python",
   "pygments_lexer": "ipython3",
   "version": "3.10.6"
  }
 },
 "nbformat": 4,
 "nbformat_minor": 5
}
